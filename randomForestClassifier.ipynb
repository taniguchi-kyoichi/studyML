{
  "nbformat": 4,
  "nbformat_minor": 0,
  "metadata": {
    "colab": {
      "provenance": [],
      "authorship_tag": "ABX9TyOHi8I50LZ7nJAPJEczAHW6",
      "include_colab_link": true
    },
    "kernelspec": {
      "name": "python3",
      "display_name": "Python 3"
    },
    "language_info": {
      "name": "python"
    }
  },
  "cells": [
    {
      "cell_type": "markdown",
      "metadata": {
        "id": "view-in-github",
        "colab_type": "text"
      },
      "source": [
        "<a href=\"https://colab.research.google.com/github/taniguchi-kyoichi/studyML/blob/main/randomForestClassifier.ipynb\" target=\"_parent\"><img src=\"https://colab.research.google.com/assets/colab-badge.svg\" alt=\"Open In Colab\"/></a>"
      ]
    },
    {
      "cell_type": "code",
      "execution_count": 7,
      "metadata": {
        "id": "KIefASbaJuli"
      },
      "outputs": [],
      "source": [
        "from sklearn import datasets\n",
        "import numpy as np\n",
        "import matplotlib.pyplot as plt\n",
        "from sklearn.ensemble import RandomForestClassifier as RFC\n",
        "from sklearn.model_selection import train_test_split, GridSearchCV"
      ]
    },
    {
      "cell_type": "code",
      "source": [
        "mnist = datasets.load_digits()\n",
        "\n",
        "train_images, test_images, train_labels, test_labels = \\\n",
        "    train_test_split(mnist.data, mnist.target, test_size = 0.2)\n"
      ],
      "metadata": {
        "id": "Ya26R34NKJ1s"
      },
      "execution_count": 10,
      "outputs": []
    },
    {
      "cell_type": "code",
      "source": [
        "plt.figure(figsize=(15,15))\n",
        "for i in range(25):\n",
        "    plt.subplot(5,5,i+1)\n",
        "    plt.xticks([])\n",
        "    plt.yticks([])\n",
        "    plt.imshow(train_images[i].reshape((8,8)), cmap=plt.cm.binary)\n",
        "    plt.xlabel(train_labels[i])"
      ],
      "metadata": {
        "colab": {
          "base_uri": "https://localhost:8080/",
          "height": 860
        },
        "id": "TRNed3NHKrZG",
        "outputId": "5c890abd-c174-4507-8cd8-2edc2e82b3be"
      },
      "execution_count": 11,
      "outputs": [
        {
          "output_type": "display_data",
          "data": {
            "text/plain": [
              "<Figure size 1080x1080 with 25 Axes>"
            ],
            "image/png": "[encoded data removed]"
          },
          "metadata": {}
        }
      ]
    },
    {
      "cell_type": "code",
      "source": [
        "clf = RFC(verbose=True,       # 学習中にログを表示します。この指定はなくてもOK\n",
        "          n_jobs=-1,          # 複数のCPUコアを使って並列に学習します。-1は最大値。\n",
        "          random_state=2525)  # 乱数のシードです。\n",
        "clf.fit(train_images, train_labels)"
      ],
      "metadata": {
        "colab": {
          "base_uri": "https://localhost:8080/"
        },
        "id": "SAYjW2VdLg7g",
        "outputId": "934e514f-5d78-4422-b25d-6fce51c8e7ef"
      },
      "execution_count": 12,
      "outputs": [
        {
          "output_type": "stream",
          "name": "stderr",
          "text": [
            "[Parallel(n_jobs=-1)]: Using backend ThreadingBackend with 2 concurrent workers.\n",
            "[Parallel(n_jobs=-1)]: Done  46 tasks      | elapsed:    0.2s\n",
            "[Parallel(n_jobs=-1)]: Done 100 out of 100 | elapsed:    0.6s finished\n"
          ]
        },
        {
          "output_type": "execute_result",
          "data": {
            "text/plain": [
              "RandomForestClassifier(n_jobs=-1, random_state=2525, verbose=True)"
            ]
          },
          "metadata": {},
          "execution_count": 12
        }
      ]
    },
    {
      "cell_type": "code",
      "source": [
        "print(f\"acc: {clf.score(test_images, test_labels)}\")\n",
        "# acc: 0.9416666666666667"
      ],
      "metadata": {
        "colab": {
          "base_uri": "https://localhost:8080/"
        },
        "id": "Q7RFCjEaLpQ6",
        "outputId": "54dbd874-692b-4875-801c-568f1e5bda2d"
      },
      "execution_count": 13,
      "outputs": [
        {
          "output_type": "stream",
          "name": "stdout",
          "text": [
            "acc: 0.975\n"
          ]
        },
        {
          "output_type": "stream",
          "name": "stderr",
          "text": [
            "[Parallel(n_jobs=2)]: Using backend ThreadingBackend with 2 concurrent workers.\n",
            "[Parallel(n_jobs=2)]: Done  46 tasks      | elapsed:    0.0s\n",
            "[Parallel(n_jobs=2)]: Done 100 out of 100 | elapsed:    0.1s finished\n"
          ]
        }
      ]
    },
    {
      "cell_type": "code",
      "source": [
        "predicted_labels = clf.predict(test_images)"
      ],
      "metadata": {
        "colab": {
          "base_uri": "https://localhost:8080/"
        },
        "id": "l37dU0C6LuLY",
        "outputId": "d899efc5-a7a9-4d3c-a569-0820e4e80900"
      },
      "execution_count": 14,
      "outputs": [
        {
          "output_type": "stream",
          "name": "stderr",
          "text": [
            "[Parallel(n_jobs=2)]: Using backend ThreadingBackend with 2 concurrent workers.\n",
            "[Parallel(n_jobs=2)]: Done  46 tasks      | elapsed:    0.0s\n",
            "[Parallel(n_jobs=2)]: Done 100 out of 100 | elapsed:    0.1s finished\n"
          ]
        }
      ]
    },
    {
      "cell_type": "code",
      "source": [
        "predicted_labels"
      ],
      "metadata": {
        "colab": {
          "base_uri": "https://localhost:8080/"
        },
        "id": "m732FbcbL3tp",
        "outputId": "7904a305-15d0-4dbc-d236-bcb3220c3003"
      },
      "execution_count": 15,
      "outputs": [
        {
          "output_type": "execute_result",
          "data": {
            "text/plain": [
              "array([1, 2, 3, 2, 1, 4, 6, 3, 2, 4, 7, 1, 6, 6, 5, 2, 8, 8, 3, 7, 7, 2,\n",
              "       7, 4, 1, 2, 5, 5, 4, 2, 8, 9, 4, 3, 6, 2, 3, 9, 9, 1, 1, 7, 2, 2,\n",
              "       6, 1, 7, 9, 5, 3, 4, 3, 0, 4, 5, 5, 1, 9, 2, 4, 7, 9, 1, 7, 6, 1,\n",
              "       8, 7, 6, 8, 0, 7, 9, 1, 0, 7, 5, 2, 9, 9, 4, 4, 4, 9, 1, 7, 6, 5,\n",
              "       9, 4, 0, 0, 1, 5, 3, 2, 4, 3, 7, 8, 2, 5, 8, 9, 8, 1, 6, 1, 1, 2,\n",
              "       4, 0, 3, 0, 9, 1, 4, 7, 2, 7, 4, 1, 4, 3, 6, 2, 1, 9, 5, 3, 9, 6,\n",
              "       0, 9, 6, 8, 3, 9, 4, 9, 6, 2, 3, 1, 6, 1, 0, 8, 5, 1, 5, 6, 2, 5,\n",
              "       7, 1, 7, 6, 4, 1, 0, 4, 1, 0, 5, 5, 2, 3, 2, 4, 5, 4, 6, 9, 3, 3,\n",
              "       0, 5, 3, 8, 4, 2, 3, 8, 0, 4, 0, 8, 4, 2, 7, 0, 1, 4, 1, 0, 4, 4,\n",
              "       3, 2, 0, 6, 6, 4, 1, 8, 6, 5, 2, 2, 7, 6, 6, 5, 7, 9, 3, 8, 2, 6,\n",
              "       3, 5, 5, 0, 8, 8, 3, 2, 4, 9, 6, 2, 2, 0, 0, 5, 6, 0, 9, 2, 3, 3,\n",
              "       9, 3, 9, 9, 9, 1, 2, 5, 9, 2, 6, 9, 2, 2, 3, 2, 2, 6, 3, 5, 9, 3,\n",
              "       0, 2, 0, 9, 9, 9, 9, 4, 3, 1, 6, 4, 6, 9, 3, 1, 1, 3, 8, 7, 3, 5,\n",
              "       5, 7, 2, 9, 4, 7, 9, 0, 0, 6, 6, 0, 5, 7, 7, 1, 6, 8, 8, 1, 0, 4,\n",
              "       1, 9, 6, 6, 4, 1, 6, 0, 1, 7, 5, 4, 8, 8, 3, 9, 4, 9, 9, 6, 8, 0,\n",
              "       3, 4, 8, 5, 1, 8, 8, 6, 3, 8, 9, 8, 7, 4, 4, 6, 5, 3, 7, 3, 2, 2,\n",
              "       1, 4, 8, 6, 4, 9, 5, 4])"
            ]
          },
          "metadata": {},
          "execution_count": 15
        }
      ]
    },
    {
      "cell_type": "code",
      "source": [],
      "metadata": {
        "id": "1wJOxWsIL6D4"
      },
      "execution_count": null,
      "outputs": []
    }
  ]
}